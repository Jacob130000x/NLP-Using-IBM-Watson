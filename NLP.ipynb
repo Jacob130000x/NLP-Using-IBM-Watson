{
  "nbformat": 4,
  "nbformat_minor": 0,
  "metadata": {
    "colab": {
      "name": "NLP.ipynb",
      "provenance": [],
      "authorship_tag": "ABX9TyOJXA4K/Qr18c2trbQ1i2Ra",
      "include_colab_link": true
    },
    "kernelspec": {
      "name": "python3",
      "display_name": "Python 3"
    },
    "language_info": {
      "name": "python"
    }
  },
  "cells": [
    {
      "cell_type": "markdown",
      "metadata": {
        "id": "view-in-github",
        "colab_type": "text"
      },
      "source": [
        "<a href=\"https://colab.research.google.com/github/Jacob130000x/NLP-Using-IBM-Watson/blob/main/NLP.ipynb\" target=\"_parent\"><img src=\"https://colab.research.google.com/assets/colab-badge.svg\" alt=\"Open In Colab\"/></a>"
      ]
    },
    {
      "cell_type": "code",
      "metadata": {
        "colab": {
          "base_uri": "https://localhost:8080/"
        },
        "id": "2Fh-ZR5UZQIc",
        "outputId": "29f879aa-ef1d-45f6-a9f7-bee6e0161263"
      },
      "source": [
        "pip install youtube-dl\n"
      ],
      "execution_count": null,
      "outputs": [
        {
          "output_type": "stream",
          "text": [
            "Requirement already satisfied: youtube-dl in /usr/local/lib/python3.7/dist-packages (2021.4.26)\n"
          ],
          "name": "stdout"
        }
      ]
    },
    {
      "cell_type": "code",
      "metadata": {
        "colab": {
          "base_uri": "https://localhost:8080/"
        },
        "id": "WHxhVy4zbvn_",
        "outputId": "7a8d6489-c18a-4538-8f39-c8311f0c2d68"
      },
      "source": [
        "!pip install ibm_watson"
      ],
      "execution_count": null,
      "outputs": [
        {
          "output_type": "stream",
          "text": [
            "Requirement already satisfied: ibm_watson in /usr/local/lib/python3.7/dist-packages (5.1.0)\n",
            "Requirement already satisfied: ibm-cloud-sdk-core>=3.3.6 in /usr/local/lib/python3.7/dist-packages (from ibm_watson) (3.9.0)\n",
            "Requirement already satisfied: websocket-client==0.48.0 in /usr/local/lib/python3.7/dist-packages (from ibm_watson) (0.48.0)\n",
            "Requirement already satisfied: requests<3.0,>=2.0 in /usr/local/lib/python3.7/dist-packages (from ibm_watson) (2.23.0)\n",
            "Requirement already satisfied: python-dateutil>=2.5.3 in /usr/local/lib/python3.7/dist-packages (from ibm_watson) (2.8.1)\n",
            "Requirement already satisfied: PyJWT<3.0.0,>=2.0.1 in /usr/local/lib/python3.7/dist-packages (from ibm-cloud-sdk-core>=3.3.6->ibm_watson) (2.1.0)\n",
            "Requirement already satisfied: six in /usr/local/lib/python3.7/dist-packages (from websocket-client==0.48.0->ibm_watson) (1.15.0)\n",
            "Requirement already satisfied: idna<3,>=2.5 in /usr/local/lib/python3.7/dist-packages (from requests<3.0,>=2.0->ibm_watson) (2.10)\n",
            "Requirement already satisfied: chardet<4,>=3.0.2 in /usr/local/lib/python3.7/dist-packages (from requests<3.0,>=2.0->ibm_watson) (3.0.4)\n",
            "Requirement already satisfied: certifi>=2017.4.17 in /usr/local/lib/python3.7/dist-packages (from requests<3.0,>=2.0->ibm_watson) (2020.12.5)\n",
            "Requirement already satisfied: urllib3!=1.25.0,!=1.25.1,<1.26,>=1.21.1 in /usr/local/lib/python3.7/dist-packages (from requests<3.0,>=2.0->ibm_watson) (1.24.3)\n"
          ],
          "name": "stdout"
        }
      ]
    },
    {
      "cell_type": "code",
      "metadata": {
        "colab": {
          "base_uri": "https://localhost:8080/"
        },
        "id": "st51BxIhcdbt",
        "outputId": "ed509689-511a-408b-9ce5-42dbab92e254"
      },
      "source": [
        "pip install ffmpeg"
      ],
      "execution_count": null,
      "outputs": [
        {
          "output_type": "stream",
          "text": [
            "Requirement already satisfied: ffmpeg in /usr/local/lib/python3.7/dist-packages (1.4)\n"
          ],
          "name": "stdout"
        }
      ]
    },
    {
      "cell_type": "code",
      "metadata": {
        "id": "FTUPHXB0aPRq"
      },
      "source": [
        "import subprocess\n",
        "from ibm_watson import SpeechToTextV1\n",
        "from ibm_watson.websocket import RecognizeCallback, AudioSource\n",
        "from ibm_cloud_sdk_core.authenticators import IAMAuthenticator"
      ],
      "execution_count": null,
      "outputs": []
    },
    {
      "cell_type": "code",
      "metadata": {
        "id": "-HpfAM_Ac2f2"
      },
      "source": [
        ""
      ],
      "execution_count": null,
      "outputs": []
    },
    {
      "cell_type": "code",
      "metadata": {
        "colab": {
          "base_uri": "https://localhost:8080/"
        },
        "id": "iL31eUuQc8Gm",
        "outputId": "535d1473-9c4f-495b-d78c-3b8702a8339b"
      },
      "source": [
        "command = 'ffmpeg -i vid.mkv -ab 160k -ar 44100 -vn audio.wav'\n",
        "subprocess.call(command, shell=True)"
      ],
      "execution_count": null,
      "outputs": [
        {
          "output_type": "execute_result",
          "data": {
            "text/plain": [
              "0"
            ]
          },
          "metadata": {
            "tags": []
          },
          "execution_count": 28
        }
      ]
    },
    {
      "cell_type": "code",
      "metadata": {
        "id": "1fh7bqQur4e0"
      },
      "source": [
        "apikey = '7om9LENPGp0jkoJ4DVOzUDVf0xHP6m22rpGTLDFLjawh' \n",
        "url = 'https://api.eu-gb.speech-to-text.watson.cloud.ibm.com/instances/8ce5365b-568b-4b79-84c2-108c6c5bff60'"
      ],
      "execution_count": null,
      "outputs": []
    },
    {
      "cell_type": "code",
      "metadata": {
        "id": "vkrI57hMt646"
      },
      "source": [
        "#Setup service\n",
        "authenticator = IAMAuthenticator(apikey)\n",
        "stt = SpeechToTextV1(authenticator=authenticator)\n",
        "stt.set_service_url(url)"
      ],
      "execution_count": null,
      "outputs": []
    },
    {
      "cell_type": "code",
      "metadata": {
        "id": "zZ2NBHtoudVc"
      },
      "source": [
        "with open('audio.wav', 'rb') as f:\n",
        "    res= stt.recognize(audio=f, conent_type='audio/wav', model='en-US_NarrowbandModel', continous=True).get_result()"
      ],
      "execution_count": null,
      "outputs": []
    },
    {
      "cell_type": "code",
      "metadata": {
        "colab": {
          "base_uri": "https://localhost:8080/"
        },
        "id": "-H76iHLpwynG",
        "outputId": "6f0dcb96-26e2-478a-f20d-19adff657bf0"
      },
      "source": [
        "res"
      ],
      "execution_count": null,
      "outputs": [
        {
          "output_type": "execute_result",
          "data": {
            "text/plain": [
              "{'result_index': 0,\n",
              " 'results': [{'alternatives': [{'confidence': 0.85,\n",
              "     'transcript': \"tell me a joke knock knock who's there ash %HESITATION shoe \"}],\n",
              "   'final': True},\n",
              "  {'alternatives': [{'confidence': 0.57,\n",
              "     'transcript': 'here something like bless you '}],\n",
              "   'final': True},\n",
              "  {'alternatives': [{'confidence': 0.8, 'transcript': 'mmhm '}],\n",
              "   'final': True},\n",
              "  {'alternatives': [{'confidence': 0.58,\n",
              "     'transcript': \"do you know any jokes yeah you do %HESITATION huh tell me the funniest joke you know what can you take a plane that I'm money because she's that's not yours I don't know how can I check she knock knock who's there thank you so much I small mampu \"}],\n",
              "   'final': True},\n",
              "  {'alternatives': [{'confidence': 0.62,\n",
              "     'transcript': 'well your PO %HESITATION '}],\n",
              "   'final': True},\n",
              "  {'alternatives': [{'confidence': 0.69,\n",
              "     'transcript': \"okay why couldn't the toilet paper crossing the road hi he got stuck in the crack \"}],\n",
              "   'final': True},\n",
              "  {'alternatives': [{'confidence': 0.75, 'transcript': '%HESITATION you '}],\n",
              "   'final': True},\n",
              "  {'alternatives': [{'confidence': 0.88,\n",
              "     'transcript': 'oh oh my gosh you know what I was thinking %HESITATION can I hear a joke %HESITATION '}],\n",
              "   'final': True},\n",
              "  {'alternatives': [{'confidence': 0.5,\n",
              "     'transcript': \"thank you again I crimes do you get it why callers %HESITATION she's J. hello I'm not sure why not have \"}],\n",
              "   'final': True},\n",
              "  {'alternatives': [{'confidence': 0.76,\n",
              "     'transcript': 'and %HESITATION acting out interesting why did the chicken cross load why did you come into the store it to go get some egg '}],\n",
              "   'final': True},\n",
              "  {'alternatives': [{'confidence': 0.77,\n",
              "     'transcript': \"because the farmer if he didn't get the eggs each and every time the firemen came the farmer would he took me with your best joke why do it a \"}],\n",
              "   'final': True},\n",
              "  {'alternatives': [{'confidence': 0.53,\n",
              "     'transcript': \"tell tell jokes why C. as they crack up like in the animal on wheels I don't know \"}],\n",
              "   'final': True},\n",
              "  {'alternatives': [{'confidence': 0.69,\n",
              "     'transcript': \"why didn't the skeleton go to prom why didn't have that that's not because they're still who yep yep H. %HESITATION all right tell me a joke %HESITATION \"}],\n",
              "   'final': True},\n",
              "  {'alternatives': [{'confidence': 0.9,\n",
              "     'transcript': \"%HESITATION hmmm I don't really hear a lot of jokes I don't know if I need \"}],\n",
              "   'final': True},\n",
              "  {'alternatives': [{'confidence': 0.52, 'transcript': 'I do not know any '}],\n",
              "   'final': True},\n",
              "  {'alternatives': [{'confidence': 0.75,\n",
              "     'transcript': \"a joke is like a funny thing you say to make people laugh I like a lot of thank god I get not tell me the funniest joke you know my boss told me to have a good day so I let her what do you do when you see a space man I don't know if you park man live game %HESITATION we allow \"}],\n",
              "   'final': True},\n",
              "  {'alternatives': [{'confidence': 0.97, 'transcript': 'why '}],\n",
              "   'final': True},\n",
              "  {'alternatives': [{'confidence': 0.56,\n",
              "     'transcript': 'hi shear well I mean '}],\n",
              "   'final': True},\n",
              "  {'alternatives': [{'confidence': 0.57, 'transcript': 'okay '}],\n",
              "   'final': True},\n",
              "  {'alternatives': [{'confidence': 0.37, 'transcript': 'I '}], 'final': True},\n",
              "  {'alternatives': [{'confidence': 0.72,\n",
              "     'transcript': 'can you explain the joke '}],\n",
              "   'final': True},\n",
              "  {'alternatives': [{'confidence': 0.6,\n",
              "     'transcript': \"what do you call it %HESITATION a kind of walk to the church home week one %HESITATION late night snack who's there banana banana plant is there yeah \"}],\n",
              "   'final': True},\n",
              "  {'alternatives': [{'confidence': 0.65,\n",
              "     'transcript': 'and then I had to buy your brain '}],\n",
              "   'final': True},\n",
              "  {'alternatives': [{'confidence': 0.73,\n",
              "     'transcript': \"do you think you're pretty funny \"}],\n",
              "   'final': True},\n",
              "  {'alternatives': [{'confidence': 0.69,\n",
              "     'transcript': '%HESITATION yes I think about it yes can you tell me a joke a live man you like India Kerr gave our ending '}],\n",
              "   'final': True},\n",
              "  {'alternatives': [{'confidence': 0.63,\n",
              "     'transcript': 'a balloon man walks into a program are how many you take a look does it take to make Oct slash team take '}],\n",
              "   'final': True},\n",
              "  {'alternatives': [{'confidence': 0.37, 'transcript': 'tax may may hello '}],\n",
              "   'final': True},\n",
              "  {'alternatives': [{'confidence': 0.52, 'transcript': 'golden '}],\n",
              "   'final': True},\n",
              "  {'alternatives': [{'confidence': 0.89, 'transcript': 'this is '}],\n",
              "   'final': True},\n",
              "  {'alternatives': [{'confidence': 0.69,\n",
              "     'transcript': 'thank you what do you what do you what do you what do you call brown kicking in brown county bank checking Bram counsel you please tell me a funny joke %HESITATION '}],\n",
              "   'final': True},\n",
              "  {'alternatives': [{'confidence': 0.62,\n",
              "     'transcript': \"is there yes Europe %HESITATION yeah that's \"}],\n",
              "   'final': True},\n",
              "  {'alternatives': [{'confidence': 0.81,\n",
              "     'transcript': 'not not there thank you see '}],\n",
              "   'final': True},\n",
              "  {'alternatives': [{'confidence': 0.77, 'transcript': 'thank you '}],\n",
              "   'final': True},\n",
              "  {'alternatives': [{'confidence': 0.4,\n",
              "     'transcript': 'welcome to demagoguing have relaunch what door thank you '}],\n",
              "   'final': True},\n",
              "  {'alternatives': [{'confidence': 0.68,\n",
              "     'transcript': 'did you make that one %HESITATION now my mom made it selected this Frank sake '}],\n",
              "   'final': True},\n",
              "  {'alternatives': [{'confidence': 0.72,\n",
              "     'transcript': \"I don't know nothing because the I. any correct %HESITATION let's %HESITATION thank god place after I have no idea if I can get \"}],\n",
              "   'final': True},\n",
              "  {'alternatives': [{'confidence': 0.54,\n",
              "     'transcript': \"like you called here and it means you don't call email why did the banana were yellow pants he thought it was appealing get it while C. sure it's much much \"}],\n",
              "   'final': True},\n",
              "  {'alternatives': [{'confidence': 0.46,\n",
              "     'transcript': \"because they sometimes school well I think they're great \"}],\n",
              "   'final': True},\n",
              "  {'alternatives': [{'confidence': 0.98, 'transcript': \"I don't know why \"}],\n",
              "   'final': True},\n",
              "  {'alternatives': [{'confidence': 0.47,\n",
              "     'transcript': 'he came he winding out by name ask T. L. and then get back to back and %HESITATION '}],\n",
              "   'final': True},\n",
              "  {'alternatives': [{'confidence': 0.76,\n",
              "     'transcript': 'what do you get when you come across a porcupine and it toward it '}],\n",
              "   'final': True},\n",
              "  {'alternatives': [{'confidence': 0.52,\n",
              "     'transcript': 'I know what a slow poke I hate you '}],\n",
              "   'final': True},\n",
              "  {'alternatives': [{'confidence': 0.31,\n",
              "     'transcript': 'Edward this is Lokesh and for keeping folks '}],\n",
              "   'final': True}]}"
            ]
          },
          "metadata": {
            "tags": []
          },
          "execution_count": 39
        }
      ]
    },
    {
      "cell_type": "code",
      "metadata": {
        "colab": {
          "base_uri": "https://localhost:8080/"
        },
        "id": "TQUVLU4xw5v6",
        "outputId": "39fbc85a-c8f2-4d05-b34c-a4ed45bed49d"
      },
      "source": [
        "len(res['results'])"
      ],
      "execution_count": null,
      "outputs": [
        {
          "output_type": "execute_result",
          "data": {
            "text/plain": [
              "43"
            ]
          },
          "metadata": {
            "tags": []
          },
          "execution_count": 42
        }
      ]
    },
    {
      "cell_type": "code",
      "metadata": {
        "id": "rrZFtsolyPGO"
      },
      "source": [
        "text = [result['alternatives'][0]['transcript'].rstrip() + '.\\n' for result in res['results']]"
      ],
      "execution_count": null,
      "outputs": []
    },
    {
      "cell_type": "code",
      "metadata": {
        "colab": {
          "base_uri": "https://localhost:8080/"
        },
        "id": "K_Qx19iEyu48",
        "outputId": "4481f7fc-4d46-4561-9d9f-b3645b44deed"
      },
      "source": [
        "len(text)"
      ],
      "execution_count": null,
      "outputs": [
        {
          "output_type": "execute_result",
          "data": {
            "text/plain": [
              "43"
            ]
          },
          "metadata": {
            "tags": []
          },
          "execution_count": 44
        }
      ]
    },
    {
      "cell_type": "code",
      "metadata": {
        "id": "xYWIT-x4zuM4"
      },
      "source": [
        "text = [para[0].title() +para[1:] for para in text]\n",
        "transcript = ''.join(text)\n",
        "with open('output.txt', 'w') as out:\n",
        "  out.writelines(transcript)"
      ],
      "execution_count": null,
      "outputs": []
    }
  ]
}